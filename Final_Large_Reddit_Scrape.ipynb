{
  "nbformat": 4,
  "nbformat_minor": 0,
  "metadata": {
    "colab": {
      "provenance": [],
      "authorship_tag": "ABX9TyMptGGJzn4MV8e/+2t4MsP4"
    },
    "kernelspec": {
      "name": "python3",
      "display_name": "Python 3"
    },
    "language_info": {
      "name": "python"
    }
  },
  "cells": [
    {
      "cell_type": "markdown",
      "source": [
        "\n",
        "Tutorial site reference:\n",
        "How to Scrape Large Amounts of Reddit Data by Matt Podolak\n",
        "https://medium.com/swlh/how-to-scrape-large-amounts-of-reddit-data-using-pushshift-1d33bde9286\n"
      ],
      "metadata": {
        "id": "FSu2ytUdbUi5"
      }
    },
    {
      "cell_type": "markdown",
      "source": [
        "Data Retrieval"
      ],
      "metadata": {
        "id": "bb7C7LFYeqZ7"
      }
    },
    {
      "cell_type": "code",
      "source": [
        "pip install pmaw pandas"
      ],
      "metadata": {
        "colab": {
          "base_uri": "https://localhost:8080/"
        },
        "id": "Au004PJnbqXv",
        "outputId": "51128c82-cc04-4ffb-bad3-ce3589e1bb53"
      },
      "execution_count": null,
      "outputs": [
        {
          "output_type": "stream",
          "name": "stdout",
          "text": [
            "Looking in indexes: https://pypi.org/simple, https://us-python.pkg.dev/colab-wheels/public/simple/\n",
            "Collecting pmaw\n",
            "  Using cached pmaw-2.1.3-py3-none-any.whl (25 kB)\n",
            "Requirement already satisfied: pandas in /usr/local/lib/python3.7/dist-packages (1.3.5)\n",
            "Collecting praw\n",
            "  Using cached praw-7.6.1-py3-none-any.whl (188 kB)\n",
            "Requirement already satisfied: requests in /usr/local/lib/python3.7/dist-packages (from pmaw) (2.23.0)\n",
            "Requirement already satisfied: pytz>=2017.3 in /usr/local/lib/python3.7/dist-packages (from pandas) (2022.6)\n",
            "Requirement already satisfied: python-dateutil>=2.7.3 in /usr/local/lib/python3.7/dist-packages (from pandas) (2.8.2)\n",
            "Requirement already satisfied: numpy>=1.17.3 in /usr/local/lib/python3.7/dist-packages (from pandas) (1.21.6)\n",
            "Requirement already satisfied: six>=1.5 in /usr/local/lib/python3.7/dist-packages (from python-dateutil>=2.7.3->pandas) (1.15.0)\n",
            "Collecting update-checker>=0.18\n",
            "  Using cached update_checker-0.18.0-py3-none-any.whl (7.0 kB)\n",
            "Collecting websocket-client>=0.54.0\n",
            "  Using cached websocket_client-1.4.2-py3-none-any.whl (55 kB)\n",
            "Collecting prawcore<3,>=2.1\n",
            "  Using cached prawcore-2.3.0-py3-none-any.whl (16 kB)\n",
            "Requirement already satisfied: certifi>=2017.4.17 in /usr/local/lib/python3.7/dist-packages (from requests->pmaw) (2022.9.24)\n",
            "Requirement already satisfied: chardet<4,>=3.0.2 in /usr/local/lib/python3.7/dist-packages (from requests->pmaw) (3.0.4)\n",
            "Requirement already satisfied: idna<3,>=2.5 in /usr/local/lib/python3.7/dist-packages (from requests->pmaw) (2.10)\n",
            "Requirement already satisfied: urllib3!=1.25.0,!=1.25.1,<1.26,>=1.21.1 in /usr/local/lib/python3.7/dist-packages (from requests->pmaw) (1.24.3)\n",
            "Installing collected packages: websocket-client, update-checker, prawcore, praw, pmaw\n",
            "Successfully installed pmaw-2.1.3 praw-7.6.1 prawcore-2.3.0 update-checker-0.18.0 websocket-client-1.4.2\n"
          ]
        }
      ]
    },
    {
      "cell_type": "code",
      "execution_count": null,
      "metadata": {
        "colab": {
          "base_uri": "https://localhost:8080/"
        },
        "id": "fp6oC4kkayY_",
        "outputId": "de53dfec-645c-4968-dc3f-7fddb48f3169"
      },
      "outputs": [
        {
          "output_type": "stream",
          "name": "stderr",
          "text": [
            "WARNING:pmaw.PushshiftAPIBase:Not all PushShift shards are active. Query results may be incomplete.\n",
            "WARNING:pmaw.PushshiftAPIBase:Not all PushShift shards are active. Query results may be incomplete.\n",
            "WARNING:pmaw.PushshiftAPIBase:Not all PushShift shards are active. Query results may be incomplete.\n",
            "WARNING:pmaw.PushshiftAPIBase:Not all PushShift shards are active. Query results may be incomplete.\n",
            "WARNING:pmaw.PushshiftAPIBase:Not all PushShift shards are active. Query results may be incomplete.\n",
            "WARNING:pmaw.PushshiftAPIBase:Not all PushShift shards are active. Query results may be incomplete.\n",
            "WARNING:pmaw.PushshiftAPIBase:Not all PushShift shards are active. Query results may be incomplete.\n"
          ]
        },
        {
          "output_type": "stream",
          "name": "stdout",
          "text": [
            "Retrieved 5672 comments from Pushshift\n"
          ]
        }
      ],
      "source": [
        "import pandas as pd\n",
        "from pmaw import PushshiftAPI\n",
        "api = PushshiftAPI()\n",
        "\n",
        "import datetime as dt\n",
        "before = int(dt.datetime(2022,2,1,0,0).timestamp())\n",
        "after = int(dt.datetime(2015,12,1,0,0).timestamp())\n",
        "\n",
        "\n",
        "subreddit=\"AirForce\"\n",
        "limit=100000\n",
        "comments = api.search_comments(subreddit=subreddit, limit=limit, before=before, \n",
        "                               after=after)\n",
        "print(f'Retrieved {len(comments)} comments from Pushshift')\n",
        "\n",
        "comments_df = pd.DataFrame(comments)\n",
        "# preview the comments data\n",
        "comments_df.head(5)\n",
        "\n",
        "comments_df.to_csv('./AF_comments.csv', header=True, index=False, \n",
        "                   columns=list(comments_df.axes[1]))"
      ]
    },
    {
      "cell_type": "code",
      "source": [],
      "metadata": {
        "id": "wcCcGmzrb7z7"
      },
      "execution_count": null,
      "outputs": []
    }
  ]
}